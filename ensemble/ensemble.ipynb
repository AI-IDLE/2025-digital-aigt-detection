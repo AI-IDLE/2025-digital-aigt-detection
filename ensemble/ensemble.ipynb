{
  "nbformat": 4,
  "nbformat_minor": 0,
  "metadata": {
    "colab": {
      "provenance": []
    },
    "kernelspec": {
      "name": "python3",
      "display_name": "Python 3"
    },
    "language_info": {
      "name": "python"
    }
  },
  "cells": [
    {
      "cell_type": "markdown",
      "source": [
        "**meta_train.csv 생성**"
      ],
      "metadata": {
        "id": "yk9pzsoodqaG"
      }
    },
    {
      "cell_type": "markdown",
      "source": [
        "1. 구글 드라이브 마운트 & 라이브러리 임포트"
      ],
      "metadata": {
        "id": "lXP7QIduO56p"
      }
    },
    {
      "cell_type": "code",
      "source": [
        "from google.colab import drive\n",
        "drive.mount('/content/drive')\n",
        "\n",
        "import pandas as pd\n",
        "import os"
      ],
      "metadata": {
        "id": "hQuXytZ8FgL1",
        "colab": {
          "base_uri": "https://localhost:8080/"
        },
        "outputId": "e9742c3a-e0ac-4ab0-a123-aee398b12d4f"
      },
      "execution_count": 18,
      "outputs": [
        {
          "output_type": "stream",
          "name": "stdout",
          "text": [
            "Drive already mounted at /content/drive; to attempt to forcibly remount, call drive.mount(\"/content/drive\", force_remount=True).\n"
          ]
        }
      ]
    },
    {
      "cell_type": "markdown",
      "source": [
        "2. 경로 & 모델/폴드 수 설정"
      ],
      "metadata": {
        "id": "EIuKAxCxekOM"
      }
    },
    {
      "cell_type": "code",
      "source": [
        "input_dir   = \"/content/drive/MyDrive/디지털경진대회/val_ensemble_folding/\"\n",
        "output_path = \"/content/drive/MyDrive/디지털경진대회/meta_train.csv\"\n",
        "\n",
        "models   = ['gemma', 'qwen', 'xone', 'kanana']\n",
        "n_folds  = 4"
      ],
      "metadata": {
        "id": "cOm4LdNUFgOP"
      },
      "execution_count": 19,
      "outputs": []
    },
    {
      "cell_type": "markdown",
      "source": [
        "3. 각 모델별로 fold 예측 누적"
      ],
      "metadata": {
        "id": "34auk1z5fAr2"
      }
    },
    {
      "cell_type": "code",
      "source": [
        "model_full_dfs = {}\n",
        "\n",
        "for m in models:\n",
        "    fold_frames = []\n",
        "\n",
        "    for fold in range(n_folds):\n",
        "        fp = os.path.join(input_dir, f\"val_{m}_fold{fold}.csv\")\n",
        "        if not os.path.isfile(fp):\n",
        "            raise FileNotFoundError(fp)\n",
        "\n",
        "        df = pd.read_csv(fp)\n",
        "\n",
        "        # 필수 컬럼 확인\n",
        "        if not {'ID', 'generated', 'label'}.issubset(df.columns):\n",
        "            raise ValueError(f\"[{fp}] 'ID', 'generated', 'label' 컬럼 필요\")\n",
        "\n",
        "        fold_frames.append(df[['ID', 'generated', 'label']])\n",
        "\n",
        "    # 1. 4개 fold를 세로 방향으로 합치기\n",
        "    full_df = pd.concat(fold_frames, ignore_index=True)\n",
        "\n",
        "    # 2. ID 중복이 있으면 오류 (한 샘플당 예측 1개만 존재해야 함)\n",
        "    if full_df['ID'].duplicated().any():\n",
        "        dup_ids = full_df.loc[full_df['ID'].duplicated(), 'ID'].unique()[:5]\n",
        "        raise ValueError(f\"[{m}] 중복 ID 존재 예: {dup_ids}\")\n",
        "\n",
        "    # 3. ID 기준 정렬\n",
        "    full_df.sort_values('ID', inplace=True)\n",
        "    full_df.reset_index(drop=True, inplace=True)\n",
        "\n",
        "    # 4. 컬럼 이름 변경: generated -> {model}_pred\n",
        "    full_df.rename(columns={'generated': f\"{m}_pred\"}, inplace=True)\n",
        "\n",
        "    # 5. 전체 개수 검증\n",
        "    if len(full_df) != n_total:\n",
        "        raise ValueError(f\"[{m}] 행 수 {len(full_df)} ≠ train 행 수 {n_total}\")\n",
        "\n",
        "    model_full_dfs[m] = full_df\n",
        "\n",
        "print(\"모든 모델의 fold 예측 누적 완료\")"
      ],
      "metadata": {
        "id": "F0RGU2u5FgTJ",
        "colab": {
          "base_uri": "https://localhost:8080/"
        },
        "outputId": "bdc1c60a-ea23-4160-8473-9c5c33b404a1"
      },
      "execution_count": 20,
      "outputs": [
        {
          "output_type": "stream",
          "name": "stdout",
          "text": [
            "모든 모델의 fold 예측 누적 완료\n"
          ]
        }
      ]
    },
    {
      "cell_type": "markdown",
      "source": [
        "4.  모델별 DF를 ID 기준으로 inner-merge"
      ],
      "metadata": {
        "id": "1Y9Vk-tkfIGp"
      }
    },
    {
      "cell_type": "code",
      "source": [
        "meta_df = model_full_dfs[models[0]].copy()\n",
        "\n",
        "for m in models[1:]:\n",
        "    meta_df = meta_df.merge(\n",
        "        model_full_dfs[m][['ID', f\"{m}_pred\", 'label']],\n",
        "        on='ID',\n",
        "        how='inner',\n",
        "        suffixes=('', '_tmp')\n",
        "    )\n",
        "    # label 일관성 확인\n",
        "    if not (meta_df['label'] == meta_df['label_tmp']).all():\n",
        "        raise ValueError(f\"Label 불일치 발생 – 모델 {m}\")\n",
        "    meta_df.drop(columns=['label_tmp'], inplace=True)"
      ],
      "metadata": {
        "id": "2dQS8s3xFgVp"
      },
      "execution_count": 21,
      "outputs": []
    },
    {
      "cell_type": "markdown",
      "source": [
        "5. 최종 정렬 & 컬럼 순서 지정"
      ],
      "metadata": {
        "id": "htChH4kwfdAq"
      }
    },
    {
      "cell_type": "code",
      "source": [
        "meta_df.sort_values('ID', inplace=True)\n",
        "meta_df.reset_index(drop=True, inplace=True)\n",
        "\n",
        "pred_cols = [f\"{m}_pred\" for m in models]\n",
        "meta_df   = meta_df[['ID'] + pred_cols + ['label']]"
      ],
      "metadata": {
        "id": "ihpID9qHFgX9"
      },
      "execution_count": 22,
      "outputs": []
    },
    {
      "cell_type": "markdown",
      "source": [
        "6. 점검 & 저장"
      ],
      "metadata": {
        "id": "mECFslSwfjPV"
      }
    },
    {
      "cell_type": "code",
      "source": [
        "assert meta_df.isna().sum().sum() == 0, \"NaN 값 존재\"\n",
        "\n",
        "meta_df.to_csv(output_path, index=False)\n",
        "print(f\"\\n meta_train.csv 저장 완료 : {output_path}\")\n",
        "print(f\"shape = {meta_df.shape}  (행 {len(meta_df)}, 열 {len(meta_df.columns)})\")\n",
        "print(\"\\n <preview>\")\n",
        "print(meta_df.head())"
      ],
      "metadata": {
        "id": "JxiiD68AFgZz",
        "colab": {
          "base_uri": "https://localhost:8080/"
        },
        "outputId": "b35e0f05-ca60-4270-8c53-1407eea05e88"
      },
      "execution_count": 23,
      "outputs": [
        {
          "output_type": "stream",
          "name": "stdout",
          "text": [
            "\n",
            " meta_train.csv 저장 완료 : /content/drive/MyDrive/디지털경진대회/meta_train.csv\n",
            "shape = (121524, 6)  (행 121524, 열 6)\n",
            "\n",
            " <preview>\n",
            "            ID  gemma_pred  qwen_pred  xone_pred  kanana_pred  label\n",
            "0  FOLD0_00000    1.000000   1.000000   1.000000     1.000000      1\n",
            "1  FOLD0_00001    0.287109   0.235352   0.283203     0.320312      0\n",
            "2  FOLD0_00002    1.000000   1.000000   1.000000     1.000000      1\n",
            "3  FOLD0_00003    0.285156   0.417969   0.289062     0.312500      1\n",
            "4  FOLD0_00004    0.314453   0.337891   0.296875     0.253906      0\n"
          ]
        }
      ]
    },
    {
      "cell_type": "markdown",
      "source": [
        "**meta_test.csv 생성**"
      ],
      "metadata": {
        "id": "ii9ARvbsPAh7"
      }
    },
    {
      "cell_type": "code",
      "source": [
        "# 라이브러리 로드\n",
        "import pandas as pd\n",
        "import os"
      ],
      "metadata": {
        "id": "Unt7g4uZmTiF"
      },
      "execution_count": 24,
      "outputs": []
    },
    {
      "cell_type": "markdown",
      "source": [
        "1. 경로 & 모델 설정"
      ],
      "metadata": {
        "id": "JxNiWtQCf0Dy"
      }
    },
    {
      "cell_type": "code",
      "source": [
        "input_dir = '/content/drive/MyDrive/디지털경진대회/test_ensemble_folding/'\n",
        "\n",
        "output_path = '/content/drive/MyDrive/디지털경진대회/meta_test.csv'\n",
        "\n",
        "# 사용 중인 base model 이름 리스트\n",
        "base_models = ['gemma', 'qwen', 'xone', 'kanana']"
      ],
      "metadata": {
        "id": "nrutI7P7msod"
      },
      "execution_count": 25,
      "outputs": []
    },
    {
      "cell_type": "markdown",
      "source": [
        "2. 각 base model들의 원본 test.csv 추론값을 기반으로 meta_test.csv 생성"
      ],
      "metadata": {
        "id": "iX8Ji5Cbf7Dq"
      }
    },
    {
      "cell_type": "code",
      "source": [
        "# 입력 디렉토리 확인\n",
        "if not os.path.exists(input_dir):\n",
        "    raise ValueError(f\"입력 디렉토리가 존재하지 않습니다: {input_dir}\")\n",
        "\n",
        "try:\n",
        "    # 모든 base model에 대해 폴드 예측 결과 불러와 평균 계산\n",
        "    mean_predictions = {}\n",
        "    ids = None  # 첫 번째 모델의 fold0 파일 ID를 기준으로 사용\n",
        "\n",
        "    for model in base_models:\n",
        "        # 각 모델의 4개 fold 예측 파일 읽기\n",
        "        fold_preds = []\n",
        "        for fold in range(4):\n",
        "            file_name = f\"test_{model}_fold{fold}.csv\"\n",
        "            file_path = os.path.join(input_dir, file_name)\n",
        "            if not os.path.isfile(file_path):\n",
        "                raise FileNotFoundError(f\"예측 결과 파일을 찾을 수 없습니다: {file_path}\")\n",
        "\n",
        "            df = pd.read_csv(file_path)\n",
        "\n",
        "            # 필요한 컬럼 존재 확인\n",
        "            if 'ID' not in df.columns or 'generated' not in df.columns:\n",
        "                raise ValueError(f\"파일에 'ID' 또는 'generated' 컬럼이 없습니다: {file_path}\")\n",
        "\n",
        "            # ID 열 일치 확인 (모든 파일의 ID 순서가 동일해야 함)\n",
        "            if ids is None:\n",
        "                ids = df['ID']\n",
        "            else:\n",
        "                if not ids.equals(df['ID']):\n",
        "                    raise ValueError(f\"{model} 모델의 fold{fold} 예측 파일의 ID 순서가 일치하지 않습니다: {file_path}\")\n",
        "\n",
        "            fold_preds.append(df['generated'])\n",
        "\n",
        "        # 4개 fold의 예측값 평균 계산\n",
        "        preds_concat = pd.concat(fold_preds, axis=1)\n",
        "        mean_pred = preds_concat.mean(axis=1)\n",
        "        mean_predictions[model] = mean_pred.values\n",
        "\n",
        "    # 메타 테스트 데이터프레임 생성\n",
        "    meta_df = pd.DataFrame({'ID': ids})\n",
        "    for model in base_models:\n",
        "        col_name = f\"pred_mean_{model}\"\n",
        "        meta_df[col_name] = mean_predictions[model]\n",
        "\n",
        "    # 결과를 CSV로 저장\n",
        "    meta_df.to_csv(output_path, index=False)\n",
        "    print(f\"meta_test.csv 파일이 저장되었습니다: {output_path}\")\n",
        "\n",
        "except Exception as e:\n",
        "    print(f\"오류 발생: {e}\")\n",
        "    raise"
      ],
      "metadata": {
        "id": "yXjxT8RxmsqX",
        "colab": {
          "base_uri": "https://localhost:8080/"
        },
        "outputId": "9c5dfd26-f18e-494c-dc88-646a13cf2609"
      },
      "execution_count": 26,
      "outputs": [
        {
          "output_type": "stream",
          "name": "stdout",
          "text": [
            "meta_test.csv 파일이 저장되었습니다: /content/drive/MyDrive/디지털경진대회/meta_test.csv\n"
          ]
        }
      ]
    },
    {
      "cell_type": "markdown",
      "source": [
        "3. meta_test.csv 파일 구조 확인"
      ],
      "metadata": {
        "id": "xiRpafo_gF8J"
      }
    },
    {
      "cell_type": "code",
      "source": [
        "print(\"\\n Top5 rows of meta_test:\")\n",
        "print(meta_df.head(5))"
      ],
      "metadata": {
        "id": "00SGcAoomTfn",
        "colab": {
          "base_uri": "https://localhost:8080/"
        },
        "outputId": "d7110f26-07ff-4d8c-a853-a160a71b5188"
      },
      "execution_count": 27,
      "outputs": [
        {
          "output_type": "stream",
          "name": "stdout",
          "text": [
            "\n",
            " Top5 rows of meta_test:\n",
            "          ID  pred_mean_gemma  pred_mean_qwen  pred_mean_xone  \\\n",
            "0  TEST_0000         0.379236        0.924513        0.465177   \n",
            "1  TEST_0001         0.393475        0.963943        0.994570   \n",
            "2  TEST_0002         0.237335        0.258387        0.283300   \n",
            "3  TEST_0003         0.814698        0.871969        0.985487   \n",
            "4  TEST_0004         0.904595        0.947946        0.952819   \n",
            "\n",
            "   pred_mean_kanana  \n",
            "0          0.273906  \n",
            "1          0.976941  \n",
            "2          0.213849  \n",
            "3          0.977091  \n",
            "4          0.810718  \n"
          ]
        }
      ]
    },
    {
      "cell_type": "markdown",
      "source": [
        "**meta model 훈련 및 추론**"
      ],
      "metadata": {
        "id": "RXG1KrH0PG_9"
      }
    },
    {
      "cell_type": "markdown",
      "source": [
        "1. 경로 설정"
      ],
      "metadata": {
        "id": "0nLF9JfGgMs4"
      }
    },
    {
      "cell_type": "code",
      "source": [
        "meta_train_path = '/content/drive/MyDrive/디지털경진대회/meta_train.csv'\n",
        "meta_test_path  = '/content/drive/MyDrive/디지털경진대회/meta_test.csv'\n",
        "submission_path = '/content/drive/MyDrive/디지털경진대회/final_submission.csv'"
      ],
      "metadata": {
        "id": "FvX6kMyF1p7f"
      },
      "execution_count": 28,
      "outputs": []
    },
    {
      "cell_type": "markdown",
      "source": [
        "2. 라이브러리 임포트"
      ],
      "metadata": {
        "id": "RR92D1TpgQu_"
      }
    },
    {
      "cell_type": "code",
      "source": [
        "import pandas as pd, numpy as np, re, warnings\n",
        "from sklearn.linear_model import LogisticRegressionCV\n",
        "from sklearn.model_selection import StratifiedKFold\n",
        "from sklearn.metrics import roc_auc_score\n",
        "warnings.filterwarnings(\"ignore\")"
      ],
      "metadata": {
        "id": "95pyE-zV1p-M"
      },
      "execution_count": 29,
      "outputs": []
    },
    {
      "cell_type": "markdown",
      "source": [
        "3. meta_train / meta_test 로드 & 검증 및 logit feature 추가"
      ],
      "metadata": {
        "id": "5hwhMrhAgTV4"
      }
    },
    {
      "cell_type": "code",
      "source": [
        "train = pd.read_csv(meta_train_path)\n",
        "test  = pd.read_csv(meta_test_path)\n",
        "\n",
        "assert train['ID'].is_unique and test['ID'].is_unique, \"ID 중복\"\n",
        "assert not train.isna().any().any() and not test.isna().any().any(), \"NaN 존재\"\n",
        "\n",
        "# test 컬럼명  pred_mean_modelX -> modelX_pred\n",
        "test = test.rename(columns={c: f\"{m.group(1)}_pred\"\n",
        "                            for c in test.columns\n",
        "                            if (m := re.match(r'^pred_mean_(.+)$', c))})\n",
        "\n",
        "base_cols = [c for c in train.columns if c not in ('ID', 'label')]\n",
        "\n",
        "# logit 변환\n",
        "eps = 1e-6\n",
        "for col in base_cols:\n",
        "    train[f\"{col}_logit\"] = np.log((train[col]+eps)/(1-train[col]+eps))\n",
        "    test[f\"{col}_logit\"]  = np.log((test[col] +eps)/(1-test[col] +eps))\n",
        "\n",
        "feature_cols = base_cols + [f\"{c}_logit\" for c in base_cols]\n",
        "\n",
        "X_train = train[feature_cols]\n",
        "y_train = train['label'].astype(float)\n",
        "X_test  = test[feature_cols].copy()\n",
        "\n",
        "assert list(X_test.columns) == feature_cols, \"feature 순서/누락\""
      ],
      "metadata": {
        "id": "Gu8CAGhn1qAp"
      },
      "execution_count": 30,
      "outputs": []
    },
    {
      "cell_type": "markdown",
      "source": [
        "4. (Meta Model) Logistic Regression Cross Validation / LR 학습 및 추론 진행"
      ],
      "metadata": {
        "id": "6ESivzzqhnGC"
      }
    },
    {
      "cell_type": "code",
      "source": [
        "SEEDS   = [42, 56, 77, 88, 99]\n",
        "C_grid  = np.logspace(-4, 2.3, 25)\n",
        "\n",
        "oof_list, test_list = [], []\n",
        "\n",
        "for seed in SEEDS:\n",
        "    pipe = LogisticRegressionCV(\n",
        "        Cs=C_grid,\n",
        "        cv=StratifiedKFold(n_splits=7, shuffle=True, random_state=seed),\n",
        "        solver='lbfgs',\n",
        "        scoring='roc_auc',\n",
        "        class_weight='balanced',\n",
        "        max_iter=4000,\n",
        "        n_jobs=-1,\n",
        "        random_state=seed\n",
        "    )\n",
        "\n",
        "    pipe.fit(X_train, y_train)\n",
        "    print(f\"seed {seed:<3d} ▸ Best C :\", pipe.C_[0])\n",
        "\n",
        "    oof_pred  = pipe.predict_proba(X_train)[:, 1]\n",
        "    auc       = roc_auc_score(y_train, oof_pred)\n",
        "    print(f\"          OOF AUC = {auc:.6f}\")\n",
        "\n",
        "    oof_list.append(oof_pred)\n",
        "    test_list.append(pipe.predict_proba(X_test)[:, 1])\n",
        "\n",
        "# 평균 앙상블\n",
        "oof_avg  = np.mean(oof_list,  axis=0)\n",
        "pred_avg = np.mean(test_list, axis=0)\n",
        "print(\"\\n OOF AUC (seed ensemble) :\", roc_auc_score(y_train, oof_avg))"
      ],
      "metadata": {
        "id": "C0a5WIBr1qDm",
        "colab": {
          "base_uri": "https://localhost:8080/"
        },
        "outputId": "9d37abf6-a193-4d29-ae3c-b9e60bc4aa0e"
      },
      "execution_count": 31,
      "outputs": [
        {
          "output_type": "stream",
          "name": "stdout",
          "text": [
            "seed 42  ▸ Best C : 0.02304092976055847\n",
            "          OOF AUC = 0.770861\n",
            "seed 56  ▸ Best C : 0.2585234839562191\n",
            "          OOF AUC = 0.770867\n",
            "seed 77  ▸ Best C : 0.14125375446227553\n",
            "          OOF AUC = 0.770866\n",
            "seed 88  ▸ Best C : 2.900681198693156\n",
            "          OOF AUC = 0.770878\n",
            "seed 99  ▸ Best C : 0.042169650342858224\n",
            "          OOF AUC = 0.770861\n",
            "\n",
            " OOF AUC (seed ensemble) : 0.770866689525477\n"
          ]
        }
      ]
    },
    {
      "cell_type": "markdown",
      "source": [
        "5. 최종 제출 파일 저장"
      ],
      "metadata": {
        "id": "OrLZSizpiBxS"
      }
    },
    {
      "cell_type": "code",
      "source": [
        "submission = pd.DataFrame({'ID': test['ID'], 'generated': pred_avg})\n",
        "submission.to_csv(submission_path, index=False)\n",
        "print(f\"\\n Saved submission → {submission_path}\")\n",
        "print(submission.head())\n",
        "\n",
        "assert submission.shape[1] == 2, \"컬럼이 일치하지 않습니다.\"\n",
        "assert submission['generated'].isna().sum() == 0, \"NaN 존재\""
      ],
      "metadata": {
        "id": "9CFykz1u1qF0",
        "colab": {
          "base_uri": "https://localhost:8080/"
        },
        "outputId": "e6bff371-1394-43b5-e83f-f2817929be97"
      },
      "execution_count": 32,
      "outputs": [
        {
          "output_type": "stream",
          "name": "stdout",
          "text": [
            "\n",
            " Saved submission → /content/drive/MyDrive/디지털경진대회/final_submission.csv\n",
            "          ID  generated\n",
            "0  TEST_0000   0.510497\n",
            "1  TEST_0001   0.925113\n",
            "2  TEST_0002   0.263866\n",
            "3  TEST_0003   0.925431\n",
            "4  TEST_0004   0.886927\n"
          ]
        }
      ]
    },
    {
      "cell_type": "markdown",
      "source": [
        "6. 제출 파일 검증 (행 수 확인)"
      ],
      "metadata": {
        "id": "MV-2C5GjiPuO"
      }
    },
    {
      "cell_type": "code",
      "source": [
        "if len(test) == len(submission):\n",
        "    print(f\"행 수 일치: meta_test.csv와 final_submission.csv = {len(test)}\")\n",
        "else:\n",
        "    print(f\"행 수 불일치: meta_test.csv = {len(test)},  final_submission = {len(submission)}\")"
      ],
      "metadata": {
        "id": "bZqYg4ds1qIT",
        "colab": {
          "base_uri": "https://localhost:8080/"
        },
        "outputId": "bd0ae98e-cd7e-4b2d-c5d7-e2e770163854"
      },
      "execution_count": 33,
      "outputs": [
        {
          "output_type": "stream",
          "name": "stdout",
          "text": [
            "행 수 일치: meta_test.csv와 final_submission.csv = 1962\n"
          ]
        }
      ]
    }
  ]
}